{
 "cells": [
  {
   "cell_type": "code",
   "execution_count": 16,
   "metadata": {},
   "outputs": [],
   "source": [
    "import mimetypes\n",
    "import pathlib\n",
    "import shutil\n",
    "import tempfile\n"
   ]
  },
  {
   "cell_type": "code",
   "execution_count": 17,
   "metadata": {},
   "outputs": [],
   "source": [
    "NOTBOOK_DIR = pathlib.Path().resolve()\n",
    "DATASET_DIR = NOTBOOK_DIR.parent / \"dataset\"\n",
    "ARCHIVE_DIR = DATASET_DIR / 'zipped'"
   ]
  },
  {
   "cell_type": "code",
   "execution_count": 15,
   "metadata": {},
   "outputs": [
    {
     "data": {
      "text/plain": [
       "[PosixPath('/Users/ac/Desktop/Github/AI-Photo-Generator-api/dataset/8.jpg'),\n",
       " PosixPath('/Users/ac/Desktop/Github/AI-Photo-Generator-api/dataset/9.jpg'),\n",
       " PosixPath('/Users/ac/Desktop/Github/AI-Photo-Generator-api/dataset/11.jpg'),\n",
       " PosixPath('/Users/ac/Desktop/Github/AI-Photo-Generator-api/dataset/10.jpg'),\n",
       " PosixPath('/Users/ac/Desktop/Github/AI-Photo-Generator-api/dataset/4.jpg'),\n",
       " PosixPath('/Users/ac/Desktop/Github/AI-Photo-Generator-api/dataset/5.jpg'),\n",
       " PosixPath('/Users/ac/Desktop/Github/AI-Photo-Generator-api/dataset/7.jpg'),\n",
       " PosixPath('/Users/ac/Desktop/Github/AI-Photo-Generator-api/dataset/6.jpg'),\n",
       " PosixPath('/Users/ac/Desktop/Github/AI-Photo-Generator-api/dataset/2.jpg'),\n",
       " PosixPath('/Users/ac/Desktop/Github/AI-Photo-Generator-api/dataset/3.jpg'),\n",
       " PosixPath('/Users/ac/Desktop/Github/AI-Photo-Generator-api/dataset/1.jpg')]"
      ]
     },
     "execution_count": 15,
     "metadata": {},
     "output_type": "execute_result"
    }
   ],
   "source": [
    "image_file_paths = []\n",
    "for file_path in DATASET_DIR.glob(\"*\"):\n",
    "    guessed_type, encoding = mimetypes.guess_type(file_path)\n",
    "    if \"image\" not in guessed_type:\n",
    "        continue\n",
    "    image_file_paths.append(file_path)\n",
    "\n",
    "image_file_paths"
   ]
  },
  {
   "cell_type": "code",
   "execution_count": 20,
   "metadata": {},
   "outputs": [],
   "source": [
    "ARCHIVE_DIR.mkdir(exist_ok=True, parents=True)"
   ]
  },
  {
   "cell_type": "code",
   "execution_count": 22,
   "metadata": {},
   "outputs": [
    {
     "data": {
      "text/plain": [
       "False"
      ]
     },
     "execution_count": 22,
     "metadata": {},
     "output_type": "execute_result"
    }
   ],
   "source": [
    "zip_outpath = ARCHIVE_DIR / \"images.zip\"\n",
    "zip_outpath.exists()"
   ]
  },
  {
   "cell_type": "code",
   "execution_count": 23,
   "metadata": {},
   "outputs": [
    {
     "data": {
      "text/plain": [
       "PosixPath('/Users/ac/Desktop/Github/AI-Photo-Generator-api/dataset/zipped/images')"
      ]
     },
     "execution_count": 23,
     "metadata": {},
     "output_type": "execute_result"
    }
   ],
   "source": [
    "zip_outpath.with_suffix('')\n"
   ]
  },
  {
   "cell_type": "code",
   "execution_count": 24,
   "metadata": {},
   "outputs": [],
   "source": [
    "with tempfile.TemporaryDirectory() as temp_dir:\n",
    "    for path in image_file_paths:\n",
    "        shutil.copy(path, temp_dir)\n",
    "    shutil.make_archive(zip_outpath.with_suffix(''), 'zip', temp_dir)"
   ]
  },
  {
   "cell_type": "code",
   "execution_count": null,
   "metadata": {},
   "outputs": [],
   "source": []
  }
 ],
 "metadata": {
  "kernelspec": {
   "display_name": "venv",
   "language": "python",
   "name": "python3"
  },
  "language_info": {
   "codemirror_mode": {
    "name": "ipython",
    "version": 3
   },
   "file_extension": ".py",
   "mimetype": "text/x-python",
   "name": "python",
   "nbconvert_exporter": "python",
   "pygments_lexer": "ipython3",
   "version": "3.12.2"
  }
 },
 "nbformat": 4,
 "nbformat_minor": 2
}
